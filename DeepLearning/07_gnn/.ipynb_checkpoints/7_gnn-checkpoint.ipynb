{
 "cells": [
  {
   "cell_type": "markdown",
   "metadata": {
    "colab_type": "text",
    "id": "9N5s4DhQJsa6"
   },
   "source": [
    "Amit Yadav"
   ]
  },
  {
   "cell_type": "markdown",
   "metadata": {
    "colab_type": "text",
    "deletable": false,
    "editable": false,
    "id": "fdf6h2O5Jsa8",
    "nbgrader": {
     "cell_type": "markdown",
     "checksum": "0cebdfae10013d8a6ecd01a6067bb0e4",
     "grade": false,
     "grade_id": "cell-bdc2c3e9281cbcf7",
     "locked": true,
     "schema_version": 3,
     "solution": false,
     "task": false
    }
   },
   "source": [
    "<div class=\"alert alert-block alert-info\">\n",
    "<b>Number of points for this notebook:</b> 4\n",
    "<br>\n",
    "<b>Deadline:</b> April 20, 2020 (Monday). 23:00\n",
    "</div>\n",
    "\n",
    "# Exercise 7. Graph neural networks. Recurrent relational network\n",
    "\n",
    "The goal of this exercise is to get familiar with graph neural networks.\n",
    "\n",
    "We will implement a simplified version of the recurrent relational network proposed in [this paper](http://papers.nips.cc/paper/7597-recurrent-relational-networks.pdf)."
   ]
  },
  {
   "cell_type": "code",
   "execution_count": 0,
   "metadata": {
    "colab": {},
    "colab_type": "code",
    "id": "dIrE1Gn3Jsa_"
   },
   "outputs": [],
   "source": [
    "skip_training = True  # Set this flag to True before validation and submission"
   ]
  },
  {
   "cell_type": "code",
   "execution_count": 0,
   "metadata": {
    "colab": {},
    "colab_type": "code",
    "deletable": false,
    "editable": false,
    "id": "3W1hZHP-JsbM",
    "nbgrader": {
     "cell_type": "code",
     "checksum": "165a01ef494feb7adc44522e39794f71",
     "grade": true,
     "grade_id": "cell-f455db2a64cfbc10",
     "locked": true,
     "points": 0,
     "schema_version": 3,
     "solution": false,
     "task": false
    }
   },
   "outputs": [],
   "source": [
    "# During evaluation, this cell sets skip_training to True\n",
    "# skip_training = True"
   ]
  },
  {
   "cell_type": "code",
   "execution_count": 0,
   "metadata": {
    "colab": {},
    "colab_type": "code",
    "id": "W2yPsbdRJsbU"
   },
   "outputs": [],
   "source": [
    "import time\n",
    "import torch\n",
    "import numpy as np\n",
    "import matplotlib.pyplot as plt\n",
    "\n",
    "import torch.nn as nn\n",
    "import torch.nn.functional as F\n",
    "import torch.optim as optim\n",
    "from torch.utils.data import TensorDataset, DataLoader\n",
    "\n",
    "import tools\n",
    "import tests"
   ]
  },
  {
   "cell_type": "code",
   "execution_count": 6,
   "metadata": {
    "colab": {
     "base_uri": "https://localhost:8080/",
     "height": 34
    },
    "colab_type": "code",
    "executionInfo": {
     "elapsed": 7980,
     "status": "ok",
     "timestamp": 1587515395103,
     "user": {
      "displayName": "Amit Yadav",
      "photoUrl": "https://lh3.googleusercontent.com/a-/AOh14GhMWNtghuhjNrZnioyK73Cv9uvgCl3tFy8jvddaQw=s64",
      "userId": "04475874712826385383"
     },
     "user_tz": -180
    },
    "id": "BynNL9P_Jsbc",
    "outputId": "5a44e79f-6a05-4965-b078-d6969b5e1bb5"
   },
   "outputs": [
    {
     "name": "stdout",
     "output_type": "stream",
     "text": [
      "The data directory is ../data\n"
     ]
    }
   ],
   "source": [
    "# When running on your own computer, you can specify the data directory by:\n",
    "# data_dir = tools.select_data_dir('/your/local/data/directory')\n",
    "data_dir = tools.select_data_dir()"
   ]
  },
  {
   "cell_type": "code",
   "execution_count": 0,
   "metadata": {
    "colab": {},
    "colab_type": "code",
    "id": "2oCfTjTPJsbk"
   },
   "outputs": [],
   "source": [
    "# Select the device for training (use GPU if you have one)\n",
    "device = torch.device('cuda:0')\n",
    "#device = torch.device('cpu')"
   ]
  },
  {
   "cell_type": "code",
   "execution_count": 0,
   "metadata": {
    "colab": {},
    "colab_type": "code",
    "deletable": false,
    "editable": false,
    "id": "86iXsAnEJsbr",
    "nbgrader": {
     "cell_type": "code",
     "checksum": "c000e09278f7a11b4e0ec6c55586f179",
     "grade": false,
     "grade_id": "cell-dbefffd6c1ecd0e6",
     "locked": true,
     "schema_version": 3,
     "solution": false,
     "task": false
    }
   },
   "outputs": [],
   "source": [
    "if skip_training:\n",
    "    # The models are always evaluated on CPU\n",
    "    device = torch.device(\"cpu\")"
   ]
  },
  {
   "cell_type": "markdown",
   "metadata": {
    "colab_type": "text",
    "deletable": false,
    "editable": false,
    "id": "v9I4lTh8Jsbx",
    "nbgrader": {
     "cell_type": "markdown",
     "checksum": "94ff585d623e04d102c3c10b5db7b007",
     "grade": false,
     "grade_id": "cell-0a18248531b242c1",
     "locked": true,
     "schema_version": 3,
     "solution": false,
     "task": false
    }
   },
   "source": [
    "# Data\n",
    "\n",
    "The dataset is a set of sudoku puzzles with solutions obtained from [here](https://github.com/locuslab/SATNet)."
   ]
  },
  {
   "cell_type": "code",
   "execution_count": 9,
   "metadata": {
    "colab": {
     "base_uri": "https://localhost:8080/",
     "height": 34
    },
    "colab_type": "code",
    "deletable": false,
    "editable": false,
    "executionInfo": {
     "elapsed": 10950,
     "status": "ok",
     "timestamp": 1587515399190,
     "user": {
      "displayName": "Amit Yadav",
      "photoUrl": "https://lh3.googleusercontent.com/a-/AOh14GhMWNtghuhjNrZnioyK73Cv9uvgCl3tFy8jvddaQw=s64",
      "userId": "04475874712826385383"
     },
     "user_tz": -180
    },
    "id": "M-9_dcftJsby",
    "nbgrader": {
     "cell_type": "code",
     "checksum": "dd73ac621312a3d8a78f419b3fca1cdf",
     "grade": false,
     "grade_id": "cell-52fd7fdb88c05e1e",
     "locked": true,
     "schema_version": 3,
     "solution": false,
     "task": false
    },
    "outputId": "ad146eec-d2ae-4309-b45f-099c86407ff7"
   },
   "outputs": [
    {
     "name": "stdout",
     "output_type": "stream",
     "text": [
      "torch.Size([81, 9]) torch.Size([81])\n"
     ]
    }
   ],
   "source": [
    "import data\n",
    "trainset = data.Sudoku(data_dir, train=True)\n",
    "testset = data.Sudoku(data_dir, train=False)\n",
    "\n",
    "x, y = trainset[0]\n",
    "print(x.shape, y.shape)"
   ]
  },
  {
   "cell_type": "markdown",
   "metadata": {
    "colab_type": "text",
    "deletable": false,
    "editable": false,
    "id": "F5J3SYEeJsb3",
    "nbgrader": {
     "cell_type": "markdown",
     "checksum": "64a0bbff6d55d8c116ee56ffe1519387",
     "grade": false,
     "grade_id": "cell-bfa379ded9e81dfd",
     "locked": true,
     "schema_version": 3,
     "solution": false,
     "task": false
    }
   },
   "source": [
    "We can visualize the data in the following way."
   ]
  },
  {
   "cell_type": "code",
   "execution_count": 0,
   "metadata": {
    "colab": {},
    "colab_type": "code",
    "deletable": false,
    "editable": false,
    "id": "14zoANmjJsb5",
    "nbgrader": {
     "cell_type": "code",
     "checksum": "ff65b8023528777e754d64da0b829040",
     "grade": false,
     "grade_id": "cell-e2ec662ae3e456cf",
     "locked": true,
     "schema_version": 3,
     "solution": false,
     "task": false
    }
   },
   "outputs": [],
   "source": [
    "def sudoku_to_labels(x):\n",
    "    \"\"\"Convert one-hot coded sudoku puzzles to labels. -1 corresponds to missing labels.\n",
    "    \n",
    "    Args:\n",
    "      x of shape (n_rows=9, n_colums=9, n_digits=9): Tensor with a sudoku board. The digits are one-hot coded.\n",
    "                  Cells with unknown digits have all zeros along the third dimension.\n",
    "    \"\"\"\n",
    "    assert x.shape == torch.Size([9, 9, 9]), \"Wrong shape {}\".format(x.shape)\n",
    "    is_filled = x.sum(dim=2)\n",
    "    y = x.argmax(dim=2)\n",
    "    y[~is_filled.bool()] = -1\n",
    "    return y"
   ]
  },
  {
   "cell_type": "code",
   "execution_count": 11,
   "metadata": {
    "colab": {
     "base_uri": "https://localhost:8080/",
     "height": 173
    },
    "colab_type": "code",
    "deletable": false,
    "editable": false,
    "executionInfo": {
     "elapsed": 1428,
     "status": "ok",
     "timestamp": 1587515402071,
     "user": {
      "displayName": "Amit Yadav",
      "photoUrl": "https://lh3.googleusercontent.com/a-/AOh14GhMWNtghuhjNrZnioyK73Cv9uvgCl3tFy8jvddaQw=s64",
      "userId": "04475874712826385383"
     },
     "user_tz": -180
    },
    "id": "pdc6SU2zJsb9",
    "nbgrader": {
     "cell_type": "code",
     "checksum": "bbec24d9865256c37ebb9cdd850ba994",
     "grade": false,
     "grade_id": "cell-f65b460624d547c2",
     "locked": true,
     "schema_version": 3,
     "solution": false,
     "task": false
    },
    "outputId": "90731e83-197d-457d-a4aa-d65eef84d2ef"
   },
   "outputs": [
    {
     "name": "stdout",
     "output_type": "stream",
     "text": [
      "tensor([[ 5,  6, -1, -1, -1, -1, -1, -1,  4],\n",
      "        [-1, -1,  2, -1,  3, -1, -1,  7,  1],\n",
      "        [-1,  3, -1, -1, -1,  4,  0,  2,  5],\n",
      "        [-1, -1, -1,  6,  2, -1, -1,  8, -1],\n",
      "        [ 2, -1,  3,  1, -1,  5, -1,  6, -1],\n",
      "        [-1, -1,  0, -1,  8, -1,  5, -1, -1],\n",
      "        [ 4, -1,  8, -1, -1,  7, -1, -1, -1],\n",
      "        [-1, -1, -1,  8,  4, -1,  1, -1,  7],\n",
      "        [-1, -1, -1,  0,  1,  6,  3, -1, -1]])\n"
     ]
    }
   ],
   "source": [
    "print(sudoku_to_labels(x.view(9, 9, 9)))"
   ]
  },
  {
   "cell_type": "code",
   "execution_count": 12,
   "metadata": {
    "colab": {
     "base_uri": "https://localhost:8080/",
     "height": 411
    },
    "colab_type": "code",
    "deletable": false,
    "editable": false,
    "executionInfo": {
     "elapsed": 1079,
     "status": "ok",
     "timestamp": 1587515402077,
     "user": {
      "displayName": "Amit Yadav",
      "photoUrl": "https://lh3.googleusercontent.com/a-/AOh14GhMWNtghuhjNrZnioyK73Cv9uvgCl3tFy8jvddaQw=s64",
      "userId": "04475874712826385383"
     },
     "user_tz": -180
    },
    "id": "4Mzl2W-lJscE",
    "nbgrader": {
     "cell_type": "code",
     "checksum": "7b67d8b0b725f17eeb7367b2d043cdad",
     "grade": false,
     "grade_id": "cell-97be4a389937532c",
     "locked": true,
     "schema_version": 3,
     "solution": false,
     "task": false
    },
    "outputId": "e8cf95ac-18a0-4e2e-c390-129a9684460c"
   },
   "outputs": [
    {
     "data": {
      "image/png": "[encoded data removed]",
      "text/plain": [
       "<Figure size 504x504 with 1 Axes>"
      ]
     },
     "metadata": {
      "needs_background": "light",
      "tags": []
     },
     "output_type": "display_data"
    }
   ],
   "source": [
    "tools.draw_sudoku(x.view(9, 9, 9), logits=False)"
   ]
  },
  {
   "cell_type": "markdown",
   "metadata": {
    "colab_type": "text",
    "deletable": false,
    "editable": false,
    "id": "KDoJOYawJscK",
    "nbgrader": {
     "cell_type": "markdown",
     "checksum": "08d294b37a7ee625627538b69d76409d",
     "grade": false,
     "grade_id": "cell-eb45c36fad255047",
     "locked": true,
     "schema_version": 3,
     "solution": false,
     "task": false
    }
   },
   "source": [
    "## Graph\n",
    "\n",
    "We describe each sudoku puzzle as a graph in which each node corresponds to one of the 9*9=81 cells in the puzzle. Each node is connected to 8+8+8-4=20 other nodes:\n",
    "* 8 nodes that correspond to other cells in the same row\n",
    "* 8 nodes that correspond to other cells in the same column\n",
    "* 8 nodes that correspond to other cells in the same $3\\times 3$ box\n",
    "* 4 cells appear both in a $3\\times 3$ box and in the same row or column.\n",
    "\n",
    "In this exercise, we decribe a graph as a set of edges. Each edge is a pair (`src_id`, `dst_id`) where `src_id` is the id of the source node and `dst_id` is the id of the destination node. In the cell below, your task is to describe such a graph by producing two lists:\n",
    "* a list of source node ids `src_id` of all edges\n",
    "* a list of destination node ids `dst_id` of all edges\n",
    "\n",
    "Note: Our tests assume that node ids are between 0 and 80. Please follow this convention."
   ]
  },
  {
   "cell_type": "code",
   "execution_count": 0,
   "metadata": {
    "colab": {},
    "colab_type": "code",
    "deletable": false,
    "id": "sO9QOdx0JscL",
    "nbgrader": {
     "cell_type": "code",
     "checksum": "4077620ddab623a5dfc8520783ef7dce",
     "grade": false,
     "grade_id": "sudoku_edges",
     "locked": false,
     "schema_version": 3,
     "solution": true,
     "task": false
    }
   },
   "outputs": [],
   "source": [
    "def sudoku_edges():\n",
    "    \"\"\"Generate edges of the graph describing the sudoku puzzle.\n",
    "    \n",
    "    Returns:\n",
    "      src_ids: LongTensor of length 1620 with source node ids of all the edges in the graph.\n",
    "      dst_ids: LongTensor of length 1620 with destination node ids of all the edges in the graph\n",
    "    \n",
    "    Note: Our tests assume that node ids are between 0 and 80. Please follow this convention.\n",
    "    \"\"\"\n",
    "    # YOUR CODE HERE\n",
    "    src_ids = []\n",
    "    dst_ids = []\n",
    "    for x in range(9):\n",
    "        for y in range(9):\n",
    "            idx1 = x*9+y\n",
    "            #the row\n",
    "            for j in range(9):\n",
    "                if j==y:\n",
    "                    continue\n",
    "                idx2 = x*9+j\n",
    "                src_ids.append(idx1)\n",
    "                dst_ids.append(idx2)\n",
    "            #the col\n",
    "            for i in range(9):\n",
    "                if i==x:\n",
    "                    continue\n",
    "                idx2 = i*9+y\n",
    "                src_ids.append(idx1)\n",
    "                dst_ids.append(idx2)\n",
    "            section_x = int(x/3)\n",
    "            section_y = int(y/3)\n",
    "            for i in range(section_x*3, section_x*3+3):\n",
    "                for j in range(section_y*3, section_y*3+3):\n",
    "                    if i==x or j==y:\n",
    "                        continue\n",
    "                    idx2 = i*9+j\n",
    "                    src_ids.append(idx1)\n",
    "                    dst_ids.append(idx2)\n",
    "                    \n",
    "    return (torch.tensor(src_ids), torch.tensor(dst_ids))\n",
    "    #raise NotImplementedError()"
   ]
  },
  {
   "cell_type": "code",
   "execution_count": 14,
   "metadata": {
    "colab": {
     "base_uri": "https://localhost:8080/",
     "height": 34
    },
    "colab_type": "code",
    "deletable": false,
    "editable": false,
    "executionInfo": {
     "elapsed": 1210,
     "status": "ok",
     "timestamp": 1587515408217,
     "user": {
      "displayName": "Amit Yadav",
      "photoUrl": "https://lh3.googleusercontent.com/a-/AOh14GhMWNtghuhjNrZnioyK73Cv9uvgCl3tFy8jvddaQw=s64",
      "userId": "04475874712826385383"
     },
     "user_tz": -180
    },
    "id": "_o4f3zl8JscQ",
    "nbgrader": {
     "cell_type": "code",
     "checksum": "34cae234fbd66c08bf5f4e17d820f122",
     "grade": true,
     "grade_id": "test_sudoku_edges",
     "locked": true,
     "points": 1,
     "schema_version": 3,
     "solution": false,
     "task": false
    },
    "outputId": "fb534801-2a78-4e7a-d393-3543aaeb275c"
   },
   "outputs": [
    {
     "name": "stdout",
     "output_type": "stream",
     "text": [
      "Number of edges in each sudoku graph: 1620\n"
     ]
    }
   ],
   "source": [
    "sudoku_src_ids, sudoku_dst_ids = sudoku_edges()\n",
    "print('Number of edges in each sudoku graph: %d' % len(sudoku_src_ids))\n",
    "assert sudoku_src_ids.dtype == torch.long and sudoku_dst_ids.dtype == torch.long\n",
    "assert len(sudoku_src_ids) == len(sudoku_dst_ids), \"The number of source and destination nodes should be same.\"\n",
    "assert len(sudoku_src_ids) == 1620, \"Wrong number of edges ({}), expected: 1620\".format(len(sudoku_src_ids))\n",
    "assert min(sudoku_src_ids) == 0 and max(sudoku_src_ids) == 80, \"Node ids should be between 0 and 80\"\n",
    "assert min(sudoku_dst_ids) == 0 and max(sudoku_dst_ids) == 80, \"Node ids should be between 0 and 80\""
   ]
  },
  {
   "cell_type": "markdown",
   "metadata": {
    "colab_type": "text",
    "deletable": false,
    "editable": false,
    "id": "Wum27IEQJscX",
    "nbgrader": {
     "cell_type": "markdown",
     "checksum": "bafa92a659e4426064de9fd6fb3b33d9",
     "grade": false,
     "grade_id": "cell-6853a7c321a2b836",
     "locked": true,
     "schema_version": 3,
     "solution": false,
     "task": false
    }
   },
   "source": [
    "## Custom data loader\n",
    "\n",
    "We first create a custom data loader to process a mini-batch of graphs (in parallel) to compute the derivatives wrt the parameters of the graph neural network. To do that, **we transform a mini-batch of graphs to one large graph without interconnecting edges between the subgraphs corresponding to individual examples in the mini-batch.** We do this using a custom collate function that you need to implement in the cell below."
   ]
  },
  {
   "cell_type": "code",
   "execution_count": 0,
   "metadata": {
    "colab": {},
    "colab_type": "code",
    "deletable": false,
    "id": "ADnnml_BJscY",
    "nbgrader": {
     "cell_type": "code",
     "checksum": "b744c606e3430b65f3e97234b4c18ade",
     "grade": false,
     "grade_id": "cell-e6452aa2777d9e21",
     "locked": false,
     "schema_version": 3,
     "solution": true,
     "task": false
    }
   },
   "outputs": [],
   "source": [
    "def collate(list_of_samples):\n",
    "    \"\"\"Merges a list of samples to form a mini-batch.\n",
    "\n",
    "    Args:\n",
    "      list_of_samples is a list of tuples (inputs, targets),\n",
    "          inputs of shape (n_nodes, 9): Inputs to each node in the graph. Inputs are one-hot coded digits\n",
    "              in the sudoku puzzle. A missing digit is encoded with all zeros. n_nodes=81 for the sudoku graph.\n",
    "          targets of shape (n_nodes): A LongTensor of targets (correct digits in the sudoku puzzle).\n",
    "\n",
    "    Returns:\n",
    "      inputs of shape (batch_size*n_nodes, 9): Inputs to each node in the graph. Inputs are one-hot coded digits\n",
    "          in the sudoku puzzle. A missing digit is encoded with all zeros. n_nodes=81 for the sudoku graph.\n",
    "      targets of shape (batch_size*n_nodes): A LongTensor of targets (correct digits in the sudoku puzzle).\n",
    "      src_ids of shape (batch_size*1620): LongTensor of source node ids for each edge in the large graph.\n",
    "          The source ids should be between 0 and batch_size * 81.\n",
    "      dst_ids of shape (batch_size*1620): LongTensor of destination node ids for each edge in the large graph.\n",
    "          The destination ids should be between 0 and batch_size * 81.\n",
    "    \"\"\"\n",
    "    # YOUR CODE HERE\n",
    "    inputs = []\n",
    "    targets = []\n",
    "    src_ids = []\n",
    "    dst_ids = []\n",
    "    edges = sudoku_edges()\n",
    "    for i, graph in enumerate(list_of_samples):\n",
    "        src, dst = graph\n",
    "        inputs.append(src)\n",
    "        targets.append(dst)\n",
    "        src_edges, dst_edges = edges\n",
    "        src_ids.append(src_edges + 81*i)\n",
    "        dst_ids.append(dst_edges + 81*i)\n",
    "    return torch.cat(inputs, dim=0), torch.cat(targets), torch.cat(src_ids), torch.cat(dst_ids)\n",
    "    #raise NotImplementedError()"
   ]
  },
  {
   "cell_type": "code",
   "execution_count": 16,
   "metadata": {
    "colab": {
     "base_uri": "https://localhost:8080/",
     "height": 34
    },
    "colab_type": "code",
    "deletable": false,
    "editable": false,
    "executionInfo": {
     "elapsed": 3661,
     "status": "ok",
     "timestamp": 1587515413651,
     "user": {
      "displayName": "Amit Yadav",
      "photoUrl": "https://lh3.googleusercontent.com/a-/AOh14GhMWNtghuhjNrZnioyK73Cv9uvgCl3tFy8jvddaQw=s64",
      "userId": "04475874712826385383"
     },
     "user_tz": -180
    },
    "id": "nUj9OzsXJscl",
    "nbgrader": {
     "cell_type": "code",
     "checksum": "3707026bb0be2ad18b17cdeb98313c55",
     "grade": false,
     "grade_id": "cell-4ab2b243c07d8d74",
     "locked": true,
     "schema_version": 3,
     "solution": false,
     "task": false
    },
    "outputId": "5d9059a7-45dc-471d-f306-b3e35be441d3"
   },
   "outputs": [
    {
     "name": "stdout",
     "output_type": "stream",
     "text": [
      "Success\n"
     ]
    }
   ],
   "source": [
    "def test_collate_shapes():\n",
    "    batch_size = 2\n",
    "    n_nodes = 81\n",
    "    inputs, targets, src_ids, dst_ids = collate([trainset[0], trainset[1]])\n",
    "    assert inputs.shape == torch.Size([batch_size*n_nodes, 9]), f\"Bad inputs.shape: {inputs.shape}\"\n",
    "    assert targets.shape == torch.Size([batch_size*n_nodes]), f\"Bad targets.shape: {targets.shape}\"\n",
    "    assert src_ids.shape == torch.Size([batch_size*1620]), f\"Bad src_ids.shape: {src_ids.shape}\"\n",
    "    assert dst_ids.shape == torch.Size([batch_size*1620]), f\"Bad dst_ids.shape: {dst_ids.shape}\"\n",
    "    assert min(src_ids) == 0 and max(src_ids) == batch_size*81-1\n",
    "    assert min(dst_ids) == 0 and max(dst_ids) == batch_size*81-1\n",
    "    print('Success')\n",
    "\n",
    "test_collate_shapes()"
   ]
  },
  {
   "cell_type": "code",
   "execution_count": 0,
   "metadata": {
    "colab": {},
    "colab_type": "code",
    "deletable": false,
    "editable": false,
    "id": "NdMtaGphJscs",
    "nbgrader": {
     "cell_type": "code",
     "checksum": "4769d712febf06f14101011cc65d4f57",
     "grade": false,
     "grade_id": "cell-db00541498ac6acf",
     "locked": true,
     "schema_version": 3,
     "solution": false,
     "task": false
    }
   },
   "outputs": [],
   "source": [
    "trainloader = DataLoader(trainset, batch_size=16, collate_fn=collate)\n",
    "testloader = DataLoader(testset, batch_size=16, collate_fn=collate)"
   ]
  },
  {
   "cell_type": "markdown",
   "metadata": {
    "colab_type": "text",
    "deletable": false,
    "editable": false,
    "id": "hQZSUNoGJscv",
    "nbgrader": {
     "cell_type": "markdown",
     "checksum": "a66946db9cd9530871e60fa6bc3cd479",
     "grade": false,
     "grade_id": "cell-e03d97e4ed3350c0",
     "locked": true,
     "schema_version": 3,
     "solution": false,
     "task": false
    }
   },
   "source": [
    "<img src=\"recurrent_rn.png\" width=300 style=\"float: right;\">\n",
    "\n",
    "# Graph neural network\n",
    "\n",
    "You need to implement a graph neural network in the cell below. Its forward function consists of `n_iters` iterations with the following steps:\n",
    "* For each node, compute the messages from all its neighbors using the message network (see description below).\n",
    "* For each destination node, aggregate (by summation) all the messages sent by its neighbors. You may find it useful to use function [`index_add_`](https://pytorch.org/docs/stable/tensors.html#torch.Tensor.index_add_) for that.\n",
    "* The aggregated messages are concatenated with the node inputs to form the inputs of the gated recurrent units (GRUs) whose states represent the states of the nodes. The node inputs are one-hot coded digits 1-9 of the sudoku puzzle, a missing digit is encoded with all zeros. \n",
    "* The states of the GRUs are updated using the standard GRU computations.\n",
    "* The states of each graph node are linearly combined to compute the output of the corresponding node at the current iteration.\n",
    "\n",
    "**Note that since we combine all graphs in the mini-batch into a single graph using `collate()` function, we do not need to care about batches in our implementation of GNN.**\n",
    "\n",
    "\n",
    "### Message network\n",
    "\n",
    "* All messages are computed with the same message network (shared parameters).\n",
    "* The message network takes as inputs the states of the source node and the states of the destination node and produces a vector with `n_edge_features`.\n",
    "* We used as the message network a multilayer perceptron (MLP) network with the following architecture:\n",
    "  * hidden layer with 96 neurons and ReLU nonlinearity\n",
    "  * hidden layer with 96 neurons and ReLU nonlinearity\n",
    "  * output layer with `n_edge_features` output features.\n",
    "* **Important:** Our tests assume that the message network is defined as an attribute called `msg_net`, that is it can be accessed as follows:\n",
    "```\n",
    "gnn = GNN()\n",
    "print(gnn.msg_net)\n",
    "```\n",
    "\n",
    "### Notes\n",
    "\n",
    "* Please initialize the node states (before the first iteration) with all zeros.\n",
    "* The messages computed in the first iteration are not informative because they combine zero states."
   ]
  },
  {
   "cell_type": "code",
   "execution_count": 0,
   "metadata": {
    "colab": {},
    "colab_type": "code",
    "deletable": false,
    "id": "p7Ve0fvIJscw",
    "nbgrader": {
     "cell_type": "code",
     "checksum": "380031a1cdb3b9f3802523ea06044814",
     "grade": false,
     "grade_id": "GNN",
     "locked": false,
     "schema_version": 3,
     "solution": true,
     "task": false
    }
   },
   "outputs": [],
   "source": [
    "class GNN(nn.Module):\n",
    "    def __init__(self, n_iters=7, n_node_features=10, n_node_inputs=9, n_edge_features=11, n_node_outputs=9):\n",
    "        \"\"\"\n",
    "        Args:\n",
    "          n_iters: Number of graph iterations.\n",
    "          n_node_features: Number of features in the states of each node.\n",
    "          n_node_inputs: Number of inputs to each graph node (on each graph iteration).\n",
    "          n_edge_features: Number of features in the messages sent along the edges of the graph (produced\n",
    "              by the message network).\n",
    "          n_node_outputs: Number of outputs produced by at each node of the graph.\n",
    "        \"\"\"\n",
    "        super(GNN, self).__init__()\n",
    "        \n",
    "        self.n_iters = n_iters\n",
    "        self.n_node_features = n_node_features\n",
    "        self.n_node_inputs = n_node_inputs\n",
    "        self.n_edge_features = n_edge_features\n",
    "        self.n_node_outputs = n_node_outputs\n",
    "        self.msg_net = nn.Sequential(nn.Linear(2*n_node_features, 96),\n",
    "                                    nn.ReLU(),\n",
    "                                    nn.Linear(96, 96),\n",
    "                                    nn.ReLU(),\n",
    "                                    nn.Linear(96, n_edge_features))\n",
    "        self.gru = nn.GRU(input_size=(n_node_inputs+n_edge_features), hidden_size=n_node_features)\n",
    "        self.linear = nn.Linear(n_node_features, n_node_outputs)\n",
    "        #input: 1,n_nodes,n_node_inputs+n_edge_features. hidden: 1,n_nodes,n_node_features\n",
    "        # YOUR CODE HERE\n",
    "        #raise NotImplementedError()\n",
    "\n",
    "    def forward(self, node_inputs, src_ids, dst_ids):\n",
    "        \"\"\"\n",
    "        Args:\n",
    "          node_inputs of shape (n_nodes, n_node_inputs): Tensor of inputs to every node of the graph.\n",
    "          src_ids of shape (n_edges): Indices of source nodes of every edge.\n",
    "          dst_ids of shape (n_edges): Indices of destination nodes of every edge.\n",
    "          \n",
    "        Returns:\n",
    "          outputs of shape (n_iters, n_nodes, n_node_outputs): Outputs of all the nodes at every iteration of the\n",
    "              graph neural network.\n",
    "        \"\"\"\n",
    "        # YOUR CODE HERE\n",
    "        input_device = node_inputs.device\n",
    "        outputs = []\n",
    "        n_nodes = node_inputs.shape[0]\n",
    "        node_state = torch.zeros(1, n_nodes, self.n_node_features, device=input_device)\n",
    "        for _ in range(self.n_iters):\n",
    "            tmp1 = torch.index_select(node_state[0], 0, src_ids)\n",
    "            tmp2 = torch.index_select(node_state[0], 0, dst_ids)\n",
    "            msg_inputs = torch.cat((tmp1, tmp2), dim=1) \n",
    "            # msg_inputs = torch.zeros(len(src_ids), 2*self.n_node_features, device=input_device)\n",
    "            # for i in range(len(src_ids)):\n",
    "            #     msg_inputs[i] = torch.cat((node_state[0][src_ids[i]], node_state[0][dst_ids[i]]))\n",
    "            msg_outputs = self.msg_net(msg_inputs)\n",
    "            #msg_input: n_edges,2*n_node_features. msg_outputs: n_edges,n_edge_features\n",
    "            assert msg_outputs.shape == torch.Size([len(src_ids), self.n_edge_features])\n",
    "            msg_agg_outputs = torch.zeros(n_nodes, self.n_edge_features, device=input_device)\n",
    "            msg_agg_outputs.index_add_(0, dst_ids, msg_outputs)\n",
    "            #msg_agg_outputs: n_nodes, n_edge_features\n",
    "            gru_inputs = torch.cat((msg_agg_outputs, node_inputs), dim=1)\n",
    "            #gru_inputs: n_nodes, n_edge_features+n_node_inputs\n",
    "            output, node_state = self.gru(gru_inputs.unsqueeze(0), node_state)\n",
    "            #output: 1,n_nodes,n_node_features\n",
    "            #node_state: 1,n_nodes, n_node_features\n",
    "            output = self.linear(output[0])\n",
    "            assert output.shape == torch.Size([n_nodes, self.n_node_outputs])\n",
    "            outputs.append(output.unsqueeze(0))\n",
    "            \n",
    "        return torch.cat(outputs, dim=0)\n",
    "        #raise NotImplementedError()"
   ]
  },
  {
   "cell_type": "code",
   "execution_count": 19,
   "metadata": {
    "colab": {
     "base_uri": "https://localhost:8080/",
     "height": 34
    },
    "colab_type": "code",
    "deletable": false,
    "editable": false,
    "executionInfo": {
     "elapsed": 7768,
     "status": "ok",
     "timestamp": 1587515441512,
     "user": {
      "displayName": "Amit Yadav",
      "photoUrl": "https://lh3.googleusercontent.com/a-/AOh14GhMWNtghuhjNrZnioyK73Cv9uvgCl3tFy8jvddaQw=s64",
      "userId": "04475874712826385383"
     },
     "user_tz": -180
    },
    "id": "s9UHzx7vJsc0",
    "nbgrader": {
     "cell_type": "code",
     "checksum": "ba83789d568c16e73add8dc76670ad98",
     "grade": false,
     "grade_id": "cell-11a931a6dc00b460",
     "locked": true,
     "schema_version": 3,
     "solution": false,
     "task": false
    },
    "outputId": "78bf1ef3-1f2b-41c0-c89d-de5bce4d7f8b"
   },
   "outputs": [
    {
     "name": "stdout",
     "output_type": "stream",
     "text": [
      "Success\n"
     ]
    }
   ],
   "source": [
    "# Shape tests of the message network\n",
    "def test_GNN_msg_net():\n",
    "    src_ids, dst_ids = sudoku_edges()\n",
    "    src_ids, dst_ids = torch.LongTensor(src_ids), torch.LongTensor(dst_ids)\n",
    "    n_nodes = 81\n",
    "    n_edges = len(src_ids)\n",
    "    n_node_features = 5\n",
    "    n_edge_features = 6\n",
    "\n",
    "    gnn = GNN(n_iters=7, n_node_features=n_node_features, n_edge_features=n_edge_features)\n",
    "    msg_net_inputs = torch.zeros(n_edges, 2*n_node_features)\n",
    "    assert hasattr(gnn, 'msg_net'), \"Cannot find the message network.\"\n",
    "    messages = gnn.msg_net(msg_net_inputs)  # [n_edges, n_edge_features]\n",
    "    assert messages.shape == torch.Size([n_edges, n_edge_features]), f\"Bad messages.shape: {messages.shape}\"\n",
    "    print('Success')\n",
    "\n",
    "test_GNN_msg_net()"
   ]
  },
  {
   "cell_type": "code",
   "execution_count": 20,
   "metadata": {
    "colab": {
     "base_uri": "https://localhost:8080/",
     "height": 34
    },
    "colab_type": "code",
    "deletable": false,
    "editable": false,
    "executionInfo": {
     "elapsed": 4231,
     "status": "ok",
     "timestamp": 1587515441515,
     "user": {
      "displayName": "Amit Yadav",
      "photoUrl": "https://lh3.googleusercontent.com/a-/AOh14GhMWNtghuhjNrZnioyK73Cv9uvgCl3tFy8jvddaQw=s64",
      "userId": "04475874712826385383"
     },
     "user_tz": -180
    },
    "id": "0zBLoFqRJsc4",
    "nbgrader": {
     "cell_type": "code",
     "checksum": "82daac8447833ccfcb74b45fb82b6e76",
     "grade": false,
     "grade_id": "cell-6e6ddbc2c5573e68",
     "locked": true,
     "schema_version": 3,
     "solution": false,
     "task": false
    },
    "outputId": "6f958188-6ab4-49c3-9c32-bfc89fbe8fd0"
   },
   "outputs": [
    {
     "name": "stdout",
     "output_type": "stream",
     "text": [
      "Success\n"
     ]
    }
   ],
   "source": [
    "# Shape tests\n",
    "def test_GNN_shape():\n",
    "    src_ids, dst_ids = sudoku_edges()\n",
    "    src_ids, dst_ids = torch.LongTensor(src_ids), torch.LongTensor(dst_ids)\n",
    "    n_nodes = 81\n",
    "\n",
    "    gnn = GNN(n_iters=7)\n",
    "    node_inputs = torch.zeros([n_nodes, 9])\n",
    "    outputs = gnn(node_inputs, src_ids, dst_ids)  # [n_iters, batch*n_nodes, 9]\n",
    "    assert outputs.shape == torch.Size([gnn.n_iters, n_nodes, 9]), f\"Bad outputs.shape: {outputs.shape}\"\n",
    "    print('Success')\n",
    "\n",
    "test_GNN_shape()"
   ]
  },
  {
   "cell_type": "code",
   "execution_count": 21,
   "metadata": {
    "colab": {
     "base_uri": "https://localhost:8080/",
     "height": 312
    },
    "colab_type": "code",
    "deletable": false,
    "editable": false,
    "executionInfo": {
     "elapsed": 1069,
     "status": "ok",
     "timestamp": 1587515445539,
     "user": {
      "displayName": "Amit Yadav",
      "photoUrl": "https://lh3.googleusercontent.com/a-/AOh14GhMWNtghuhjNrZnioyK73Cv9uvgCl3tFy8jvddaQw=s64",
      "userId": "04475874712826385383"
     },
     "user_tz": -180
    },
    "id": "rjLorR2bJsc9",
    "nbgrader": {
     "cell_type": "code",
     "checksum": "6a303c209d0189af564510b63013c883",
     "grade": true,
     "grade_id": "test_GNN",
     "locked": true,
     "points": 1,
     "schema_version": 3,
     "solution": false,
     "task": false
    },
    "outputId": "a4ee97e8-0766-4e23-9b95-d092a5927fe4"
   },
   "outputs": [
    {
     "name": "stdout",
     "output_type": "stream",
     "text": [
      "outputs:\n",
      " tensor([[[ 0.0000,  0.0498],\n",
      "         [ 0.0000,  0.2311],\n",
      "         [ 0.0000,  0.3581]],\n",
      "\n",
      "        [[-0.0012,  0.0736],\n",
      "         [-0.0058,  0.3434],\n",
      "         [-0.0089,  0.5360]]])\n",
      "expected:\n",
      " tensor([[[ 0.0000,  0.0498],\n",
      "         [ 0.0000,  0.2311],\n",
      "         [ 0.0000,  0.3581]],\n",
      "\n",
      "        [[-0.0012,  0.0736],\n",
      "         [-0.0058,  0.3434],\n",
      "         [-0.0089,  0.5360]]])\n",
      "Success\n"
     ]
    }
   ],
   "source": [
    "# Test of the forward function\n",
    "tests.test_GNN_forward(GNN)"
   ]
  },
  {
   "cell_type": "markdown",
   "metadata": {
    "colab_type": "text",
    "deletable": false,
    "editable": false,
    "id": "7D4SPxamJsdC",
    "nbgrader": {
     "cell_type": "markdown",
     "checksum": "d1bd48c6aa150d63000c006bdea924c6",
     "grade": false,
     "grade_id": "cell-7ade147639f9842c",
     "locked": true,
     "schema_version": 3,
     "solution": false,
     "task": false
    }
   },
   "source": [
    "## Train the network"
   ]
  },
  {
   "cell_type": "markdown",
   "metadata": {
    "colab_type": "text",
    "deletable": false,
    "editable": false,
    "id": "lPpp9irmJsdE",
    "nbgrader": {
     "cell_type": "markdown",
     "checksum": "c9d9eb5aa6874ce9ed806494adefd69f",
     "grade": false,
     "grade_id": "cell-329b929c7fb52923",
     "locked": true,
     "schema_version": 3,
     "solution": false,
     "task": false
    }
   },
   "source": [
    "### Training loop\n",
    "\n",
    "Your task is to implement the training loop. The recommended hyperparameters:\n",
    "* Adam optimizer with learning rate 0.001\n",
    "* 30 epochs is usually enough for training to converge.\n",
    "* The loss should be the mean of the classification losses computed at **every** GNN iteration. This way you encourage the GNN to find the correct solution with as few iterations as possible.\n",
    "\n",
    "Hints:\n",
    "* The training loss at convergence can reach 0.25. The classification loss computed after the **last** GNN iteration should be close to 0.\n",
    "* The fraction of solved test puzzles is usually close to 1 (we will use the threshold of 0.93 in the tests).\n",
    "* We recommend you to track the fraction of solved puzzles in the test set using the function below."
   ]
  },
  {
   "cell_type": "code",
   "execution_count": 22,
   "metadata": {
    "colab": {
     "base_uri": "https://localhost:8080/",
     "height": 208
    },
    "colab_type": "code",
    "deletable": false,
    "editable": false,
    "executionInfo": {
     "elapsed": 11145,
     "status": "ok",
     "timestamp": 1587515456134,
     "user": {
      "displayName": "Amit Yadav",
      "photoUrl": "https://lh3.googleusercontent.com/a-/AOh14GhMWNtghuhjNrZnioyK73Cv9uvgCl3tFy8jvddaQw=s64",
      "userId": "04475874712826385383"
     },
     "user_tz": -180
    },
    "id": "zMjljztXJsdE",
    "nbgrader": {
     "cell_type": "code",
     "checksum": "f136befec210d74c77cdb29f0be2b953",
     "grade": false,
     "grade_id": "cell-1a6cd2d477b9cf68",
     "locked": true,
     "schema_version": 3,
     "solution": false,
     "task": false
    },
    "outputId": "c508cdf9-087f-4ba1-ac51-a2dd251f24b8"
   },
   "outputs": [
    {
     "data": {
      "text/plain": [
       "GNN(\n",
       "  (msg_net): Sequential(\n",
       "    (0): Linear(in_features=20, out_features=96, bias=True)\n",
       "    (1): ReLU()\n",
       "    (2): Linear(in_features=96, out_features=96, bias=True)\n",
       "    (3): ReLU()\n",
       "    (4): Linear(in_features=96, out_features=11, bias=True)\n",
       "  )\n",
       "  (gru): GRU(20, 10)\n",
       "  (linear): Linear(in_features=10, out_features=9, bias=True)\n",
       ")"
      ]
     },
     "execution_count": 22,
     "metadata": {
      "tags": []
     },
     "output_type": "execute_result"
    }
   ],
   "source": [
    "# Create network\n",
    "gnn = GNN()\n",
    "gnn.to(device)"
   ]
  },
  {
   "cell_type": "code",
   "execution_count": 0,
   "metadata": {
    "colab": {},
    "colab_type": "code",
    "deletable": false,
    "editable": false,
    "id": "hnJXoEg1JsdJ",
    "nbgrader": {
     "cell_type": "code",
     "checksum": "070a0e968197e35da0c9caf76e5aa35d",
     "grade": false,
     "grade_id": "cell-22f6f3447eba7ab0",
     "locked": true,
     "schema_version": 3,
     "solution": false,
     "task": false
    }
   },
   "outputs": [],
   "source": [
    "def fraction_of_solved_puzzles(gnn, testloader):\n",
    "    with torch.no_grad():\n",
    "        n_test = 0\n",
    "        n_test_solved = 0\n",
    "        for i, (inputs, targets, src_ids, dst_ids) in enumerate(testloader):\n",
    "            # inputs is [n_nodes, 9*9, 9]\n",
    "            # targets is [n_nodes]\n",
    "            batch_size = inputs.size(0) // 81\n",
    "            inputs, targets = inputs.to(device), targets.to(device)\n",
    "            src_ids, dst_ids = src_ids.to(device), dst_ids.to(device)\n",
    "\n",
    "            outputs = gnn(inputs, src_ids, dst_ids)  # [n_iters, batch*n_nodes, 9]\n",
    "            solution = outputs.view(gnn.n_iters, batch_size, 9, 9, 9)\n",
    "\n",
    "            final_solution = solution[-1].argmax(dim=3)\n",
    "            solved = (final_solution.view(-1, 81) == targets.view(batch_size, 81)).all(dim=1)\n",
    "            n_test += solved.size(0)\n",
    "            n_test_solved += solved.sum().item()\n",
    "            return n_test_solved / n_test"
   ]
  },
  {
   "cell_type": "code",
   "execution_count": 0,
   "metadata": {
    "colab": {},
    "colab_type": "code",
    "id": "AENROQcBJsdN"
   },
   "outputs": [],
   "source": [
    "a,b,c,d=iter(trainloader).next()"
   ]
  },
  {
   "cell_type": "code",
   "execution_count": 25,
   "metadata": {
    "colab": {
     "base_uri": "https://localhost:8080/",
     "height": 86
    },
    "colab_type": "code",
    "executionInfo": {
     "elapsed": 3988,
     "status": "ok",
     "timestamp": 1587515456139,
     "user": {
      "displayName": "Amit Yadav",
      "photoUrl": "https://lh3.googleusercontent.com/a-/AOh14GhMWNtghuhjNrZnioyK73Cv9uvgCl3tFy8jvddaQw=s64",
      "userId": "04475874712826385383"
     },
     "user_tz": -180
    },
    "id": "Xj2eagJuJsdR",
    "outputId": "19e7e196-81f2-45c4-9ca4-2de88777fbf6"
   },
   "outputs": [
    {
     "name": "stdout",
     "output_type": "stream",
     "text": [
      "torch.Size([1296, 9])\n",
      "torch.Size([1296])\n",
      "torch.Size([25920])\n",
      "torch.Size([25920])\n"
     ]
    }
   ],
   "source": [
    "print(a.shape) #16*81, 9\n",
    "print(b.shape) #16*81\n",
    "print(c.shape) #16*(81*20)\n",
    "print(d.shape) #16*(81*20)"
   ]
  },
  {
   "cell_type": "code",
   "execution_count": 26,
   "metadata": {
    "colab": {
     "base_uri": "https://localhost:8080/",
     "height": 139
    },
    "colab_type": "code",
    "deletable": false,
    "executionInfo": {
     "elapsed": 62913,
     "status": "ok",
     "timestamp": 1587515526814,
     "user": {
      "displayName": "Amit Yadav",
      "photoUrl": "https://lh3.googleusercontent.com/a-/AOh14GhMWNtghuhjNrZnioyK73Cv9uvgCl3tFy8jvddaQw=s64",
      "userId": "04475874712826385383"
     },
     "user_tz": -180
    },
    "id": "LuLcP-PNJsdV",
    "nbgrader": {
     "cell_type": "code",
     "checksum": "cc19846a8d8839a111f004d38b6dc7af",
     "grade": false,
     "grade_id": "training_loop",
     "locked": false,
     "schema_version": 3,
     "solution": true,
     "task": false
    },
    "outputId": "22e6dd8c-fcee-446e-a84c-153496635d1e"
   },
   "outputs": [
    {
     "name": "stdout",
     "output_type": "stream",
     "text": [
      "epoch:0 loss:1.4162594000569033, fraction:0.0, time:9.104993343353271,  \n",
      "epoch:1 loss:0.7168559878799886, fraction:0.25, time:8.72254204750061,  \n",
      "epoch:2 loss:0.37908523396107485, fraction:0.875, time:8.727060794830322,  \n",
      "epoch:3 loss:0.3170264857700409, fraction:0.9375, time:8.766284942626953,  \n",
      "epoch:4 loss:0.29805454272995197, fraction:1.0, time:8.785252094268799,  \n",
      "epoch:5 loss:0.2871527716279242, fraction:1.0, time:8.778852939605713,  \n",
      "epoch:6 loss:0.2799791746622292, fraction:1.0, time:8.812893390655518,  \n"
     ]
    }
   ],
   "source": [
    "# Implement the training loop here\n",
    "import time\n",
    "if not skip_training:\n",
    "    # YOUR CODE HERE\n",
    "    criterion = nn.CrossEntropyLoss()\n",
    "    optimizer = torch.optim.Adam(params=gnn.parameters() ,lr=0.001)\n",
    "    for epoch in range(7):\n",
    "        start = time.time()\n",
    "        running_loss = []\n",
    "        for i, batch in enumerate(trainloader):\n",
    "            # print(i, end=\" \")\n",
    "            gnn.train()\n",
    "            optimizer.zero_grad()\n",
    "            node_inputs, targets, src_ids, dst_ids = batch\n",
    "            node_inputs, targets = node_inputs.to(device), targets.to(device)\n",
    "            src_ids, dst_ids = src_ids.to(device), dst_ids.to(device)\n",
    "            outputs = gnn(node_inputs, src_ids, dst_ids)\n",
    "            loss = 0\n",
    "            for output in outputs:\n",
    "                loss = loss + criterion(output, targets)\n",
    "            loss = loss/outputs.shape[0]\n",
    "            running_loss.append(loss.item())\n",
    "            loss.backward()\n",
    "            optimizer.step()\n",
    "        frac = fraction_of_solved_puzzles(gnn, testloader)\n",
    "        end = time.time()\n",
    "        time_taken = end-start\n",
    "        print(\"epoch:{} loss:{}, fraction:{}, time:{},  \".format(epoch, np.mean(running_loss), frac, time_taken))\n",
    "            \n",
    "            \n",
    "        \n",
    "    #raise NotImplementedError()"
   ]
  },
  {
   "cell_type": "code",
   "execution_count": 30,
   "metadata": {
    "colab": {
     "base_uri": "https://localhost:8080/",
     "height": 52
    },
    "colab_type": "code",
    "deletable": false,
    "editable": false,
    "executionInfo": {
     "elapsed": 4887,
     "status": "ok",
     "timestamp": 1587515699834,
     "user": {
      "displayName": "Amit Yadav",
      "photoUrl": "https://lh3.googleusercontent.com/a-/AOh14GhMWNtghuhjNrZnioyK73Cv9uvgCl3tFy8jvddaQw=s64",
      "userId": "04475874712826385383"
     },
     "user_tz": -180
    },
    "id": "T9qC_7BqJsdZ",
    "nbgrader": {
     "cell_type": "code",
     "checksum": "35a9ba58ab03188089a30d64e8c4bdaa",
     "grade": false,
     "grade_id": "cell-7b664d9672add5d3",
     "locked": true,
     "schema_version": 3,
     "solution": false,
     "task": false
    },
    "outputId": "540cba60-7b42-4a31-8280-a338c79febc1"
   },
   "outputs": [
    {
     "name": "stdout",
     "output_type": "stream",
     "text": [
      "Do you want to save the model (type yes to confirm)? yes\n",
      "Model saved to 7_gnn.pth.\n"
     ]
    }
   ],
   "source": [
    "# Save the model to disk (the pth-files will be submitted automatically together with your notebook)\n",
    "if not skip_training:\n",
    "    tools.save_model(gnn, '7_gnn.pth')\n",
    "else:\n",
    "    gnn = GNN()\n",
    "    tools.load_model(gnn, '7_gnn.pth', device)"
   ]
  },
  {
   "cell_type": "markdown",
   "metadata": {
    "colab_type": "text",
    "deletable": false,
    "editable": false,
    "id": "TuyhTCKnJsde",
    "nbgrader": {
     "cell_type": "markdown",
     "checksum": "3612e3450979bdecf32aae43ff0b434f",
     "grade": false,
     "grade_id": "cell-3f1e85b8a2af78bb",
     "locked": true,
     "schema_version": 3,
     "solution": false,
     "task": false
    }
   },
   "source": [
    "## Evaluate the trained model"
   ]
  },
  {
   "cell_type": "code",
   "execution_count": 31,
   "metadata": {
    "colab": {
     "base_uri": "https://localhost:8080/",
     "height": 69
    },
    "colab_type": "code",
    "deletable": false,
    "editable": false,
    "executionInfo": {
     "elapsed": 1045,
     "status": "ok",
     "timestamp": 1587515703588,
     "user": {
      "displayName": "Amit Yadav",
      "photoUrl": "https://lh3.googleusercontent.com/a-/AOh14GhMWNtghuhjNrZnioyK73Cv9uvgCl3tFy8jvddaQw=s64",
      "userId": "04475874712826385383"
     },
     "user_tz": -180
    },
    "id": "Ec6hEPeGJsdf",
    "nbgrader": {
     "cell_type": "code",
     "checksum": "73435e67216769af33707a90cf811590",
     "grade": false,
     "grade_id": "cell-32f91b6a282d0245",
     "locked": true,
     "schema_version": 3,
     "solution": false,
     "task": false
    },
    "outputId": "fbda5fda-c62d-409f-b1b0-056c1b4b55d1"
   },
   "outputs": [
    {
     "name": "stdout",
     "output_type": "stream",
     "text": [
      "Solved puzzles in the current mini-batch:\n",
      "tensor([True, True, True, True, True, True, True, True, True, True, True, True,\n",
      "        True, True, True, True], device='cuda:0')\n"
     ]
    }
   ],
   "source": [
    "# Get graph iterations for some test puzzles\n",
    "with torch.no_grad():\n",
    "    inputs, targets, src_ids, dst_ids = iter(testloader).next()\n",
    "    inputs, targets = inputs.to(device), targets.to(device)\n",
    "    src_ids, dst_ids = src_ids.to(device), dst_ids.to(device)\n",
    "\n",
    "    batch_size = inputs.size(0) // 81\n",
    "    outputs = gnn(inputs, src_ids, dst_ids)  # [n_iters, n_nodes, 9]\n",
    "\n",
    "    solution = outputs.view(gnn.n_iters, batch_size, 9, 9, 9)\n",
    "    final_solution = solution[-1].argmax(dim=3)\n",
    "    print('Solved puzzles in the current mini-batch:')\n",
    "    print((final_solution.view(-1, 81) == targets.view(batch_size, 81)).all(dim=1))"
   ]
  },
  {
   "cell_type": "code",
   "execution_count": 0,
   "metadata": {
    "colab": {
     "base_uri": "https://localhost:8080/",
     "height": 1000
    },
    "colab_type": "code",
    "deletable": false,
    "editable": false,
    "id": "a067PbU2Jsdi",
    "nbgrader": {
     "cell_type": "code",
     "checksum": "92d62e9db18cb4f608d557bf65ce095f",
     "grade": false,
     "grade_id": "cell-f26db64afdc81028",
     "locked": true,
     "schema_version": 3,
     "solution": false,
     "task": false
    },
    "outputId": "7217f129-c516-41e0-bf61-536af8596113"
   },
   "outputs": [
    {
     "data": {
      "image/png": "[encoded data removed]",
      "text/plain": [
       "<Figure size 504x504 with 1 Axes>"
      ]
     },
     "metadata": {
      "needs_background": "light",
      "tags": []
     },
     "output_type": "display_data"
    },
    {
     "data": {
      "image/png": "[encoded data removed]",
      "text/plain": [
       "<Figure size 504x504 with 1 Axes>"
      ]
     },
     "metadata": {
      "needs_background": "light",
      "tags": []
     },
     "output_type": "display_data"
    },
    {
     "data": {
      "image/png": "[encoded data removed]",
      "text/plain": [
       "<Figure size 504x504 with 1 Axes>"
      ]
     },
     "metadata": {
      "needs_background": "light",
      "tags": []
     },
     "output_type": "display_data"
    },
    {
     "data": {
      "image/png": "[encoded data removed]",
      "text/plain": [
       "<Figure size 504x504 with 1 Axes>"
      ]
     },
     "metadata": {
      "needs_background": "light",
      "tags": []
     },
     "output_type": "display_data"
    },
    {
     "data": {
      "image/png": "[encoded data removed]",
      "text/plain": [
       "<Figure size 504x504 with 1 Axes>"
      ]
     },
     "metadata": {
      "needs_background": "light",
      "tags": []
     },
     "output_type": "display_data"
    }
   ],
   "source": [
    "# Visualize graph iteration for one of the puzzles\n",
    "ix = 0\n",
    "for i in range(gnn.n_iters):\n",
    "    tools.draw_sudoku(solution[i, 0], logits=True)"
   ]
  },
  {
   "cell_type": "code",
   "execution_count": 0,
   "metadata": {
    "colab": {},
    "colab_type": "code",
    "deletable": false,
    "editable": false,
    "id": "RILQBpJ7Jsdl",
    "nbgrader": {
     "cell_type": "code",
     "checksum": "f49a402b83410a7447bbd7f21aa3da6d",
     "grade": true,
     "grade_id": "accuracy",
     "locked": true,
     "points": 2,
     "schema_version": 3,
     "solution": false,
     "task": false
    }
   },
   "outputs": [],
   "source": [
    "fraction_solved = fraction_of_solved_puzzles(gnn, testloader)\n",
    "assert fraction_solved > .93, \"Poor accuracy ({:.3f})\".format(fraction_solved)\n",
    "print('Success')"
   ]
  },
  {
   "cell_type": "markdown",
   "metadata": {
    "colab_type": "text",
    "deletable": false,
    "editable": false,
    "id": "WhwJyb8hJsdo",
    "nbgrader": {
     "cell_type": "markdown",
     "checksum": "d10aa730c1337214854a67435aa8b2b5",
     "grade": false,
     "grade_id": "cell-0bc01d506d94ba01",
     "locked": true,
     "schema_version": 3,
     "solution": false,
     "task": false
    }
   },
   "source": [
    "<div class=\"alert alert-block alert-info\">\n",
    "<b>Conclusions</b>\n",
    "</div>\n",
    "\n",
    "In this exercise, we learned how to train a simple graph neural network."
   ]
  },
  {
   "cell_type": "code",
   "execution_count": 0,
   "metadata": {
    "colab": {},
    "colab_type": "code",
    "id": "9caWm4m8RMwR"
   },
   "outputs": [],
   "source": []
  }
 ],
 "metadata": {
  "accelerator": "GPU",
  "colab": {
   "collapsed_sections": [],
   "name": "7_gnn.ipynb",
   "provenance": []
  },
  "kernelspec": {
   "display_name": "Python 3",
   "language": "python",
   "name": "python3"
  },
  "language_info": {
   "codemirror_mode": {
    "name": "ipython",
    "version": 3
   },
   "file_extension": ".py",
   "mimetype": "text/x-python",
   "name": "python",
   "nbconvert_exporter": "python",
   "pygments_lexer": "ipython3",
   "version": "3.7.3"
  },
  "varInspector": {
   "cols": {
    "lenName": 16,
    "lenType": 16,
    "lenVar": 40
   },
   "kernels_config": {
    "python": {
     "delete_cmd_postfix": "",
     "delete_cmd_prefix": "del ",
     "library": "var_list.py",
     "varRefreshCmd": "print(var_dic_list())"
    },
    "r": {
     "delete_cmd_postfix": ") ",
     "delete_cmd_prefix": "rm(",
     "library": "var_list.r",
     "varRefreshCmd": "cat(var_dic_list()) "
    }
   },
   "types_to_exclude": [
    "module",
    "function",
    "builtin_function_or_method",
    "instance",
    "_Feature"
   ],
   "window_display": false
  }
 },
 "nbformat": 4,
 "nbformat_minor": 1
}
