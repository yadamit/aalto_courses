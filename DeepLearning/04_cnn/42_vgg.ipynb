{
 "cells": [
  {
   "cell_type": "markdown",
   "metadata": {
    "colab_type": "text",
    "deletable": false,
    "editable": false,
    "id": "p_bdv-fc2Thd",
    "nbgrader": {
     "cell_type": "markdown",
     "checksum": "bfb9af38dcd38f730b7d3208490f4784",
     "grade": false,
     "grade_id": "cell-440df6cfa709812f",
     "locked": true,
     "schema_version": 3,
     "solution": false
    }
   },
   "source": [
    "<div class=\"alert alert-block alert-info\">\n",
    "<b>Number of points for this notebook:</b> 1\n",
    "<br>\n",
    "<b>Deadline:</b> March 23, 2020 (Monday). 23:00\n",
    "</div>\n",
    "\n",
    "# Exercise 4.2. Convolutional networks. VGG-style network.\n",
    "\n",
    "In the second part you need to train a convolutional neural network with an architecture inspired by a VGG-network [(Simonyan \\& Zisserman, 2015)](https://arxiv.org/abs/1409.1556)."
   ]
  },
  {
   "cell_type": "code",
   "execution_count": 1,
   "metadata": {
    "colab": {},
    "colab_type": "code",
    "id": "5zoehJvC2Thl"
   },
   "outputs": [],
   "source": [
    "skip_training = True  # Set this flag to True before validation and submission"
   ]
  },
  {
   "cell_type": "code",
   "execution_count": 2,
   "metadata": {
    "colab": {},
    "colab_type": "code",
    "deletable": false,
    "editable": false,
    "id": "I3JEFpkg2Th5",
    "nbgrader": {
     "cell_type": "code",
     "checksum": "65e2970339980ef7d85c3754662c4ee8",
     "grade": true,
     "grade_id": "evaluation_settings",
     "locked": true,
     "points": 0,
     "schema_version": 3,
     "solution": false
    }
   },
   "outputs": [],
   "source": [
    "# During evaluation, this cell sets skip_training to True\n",
    "# skip_training = True"
   ]
  },
  {
   "cell_type": "code",
   "execution_count": 3,
   "metadata": {
    "colab": {},
    "colab_type": "code",
    "id": "SiA2ZOTz2TiC"
   },
   "outputs": [],
   "source": [
    "import os\n",
    "import numpy as np\n",
    "import matplotlib.pyplot as plt\n",
    "%matplotlib inline\n",
    "\n",
    "import torch\n",
    "import torchvision\n",
    "import torchvision.transforms as transforms\n",
    "\n",
    "import torch.nn as nn\n",
    "import torch.nn.functional as F\n",
    "import torch.optim as optim\n",
    "\n",
    "import tools\n",
    "import tests"
   ]
  },
  {
   "cell_type": "code",
   "execution_count": 4,
   "metadata": {
    "colab": {
     "base_uri": "https://localhost:8080/",
     "height": 34
    },
    "colab_type": "code",
    "id": "joYQhvLe2TiK",
    "outputId": "6ce1ed11-3f61-4735-e365-68502bccbac5"
   },
   "outputs": [
    {
     "name": "stdout",
     "output_type": "stream",
     "text": [
      "The data directory is /coursedata\n"
     ]
    }
   ],
   "source": [
    "# When running on your own computer, you can specify the data directory by:\n",
    "# data_dir = tools.select_data_dir('/your/local/data/directory')\n",
    "data_dir = tools.select_data_dir()"
   ]
  },
  {
   "cell_type": "code",
   "execution_count": 5,
   "metadata": {
    "colab": {},
    "colab_type": "code",
    "id": "Ha2AdTfs2TiV"
   },
   "outputs": [],
   "source": [
    "# Select the device for training (use GPU if you have one)\n",
    "device = torch.device('cuda:0')\n",
    "# device = torch.device('cpu')"
   ]
  },
  {
   "cell_type": "code",
   "execution_count": 6,
   "metadata": {
    "colab": {},
    "colab_type": "code",
    "deletable": false,
    "editable": false,
    "id": "P24f3rM12Tif",
    "nbgrader": {
     "cell_type": "code",
     "checksum": "48d33ffe246f5459117f53cac15b370d",
     "grade": false,
     "grade_id": "cell-fe95dcf02c6b9c5e",
     "locked": true,
     "schema_version": 3,
     "solution": false
    }
   },
   "outputs": [],
   "source": [
    "if skip_training:\n",
    "    # The models are always evaluated on CPU\n",
    "    device = torch.device(\"cpu\")"
   ]
  },
  {
   "cell_type": "markdown",
   "metadata": {
    "colab_type": "text",
    "deletable": false,
    "editable": false,
    "id": "pygZJBfP2Tio",
    "nbgrader": {
     "cell_type": "markdown",
     "checksum": "2f2b11aa8f0d0377563333bd78493751",
     "grade": false,
     "grade_id": "cell-e5b565cc4aae8e7f",
     "locked": true,
     "schema_version": 3,
     "solution": false
    }
   },
   "source": [
    "## FashionMNIST dataset\n",
    "\n",
    "Let us use the FashionMNIST dataset. It consists of 60,000 training images of 10 classes: 'T-shirt/top', 'Trouser', 'Pullover', 'Dress', 'Coat', 'Sandal', 'Shirt', 'Sneaker', 'Bag', 'Ankle boot'."
   ]
  },
  {
   "cell_type": "code",
   "execution_count": 7,
   "metadata": {
    "colab": {},
    "colab_type": "code",
    "deletable": false,
    "editable": false,
    "id": "9VpWD12O2Tip",
    "nbgrader": {
     "cell_type": "code",
     "checksum": "889ef743f5d3f1f0499804525691113a",
     "grade": false,
     "grade_id": "cell-8b0fded08998282c",
     "locked": true,
     "schema_version": 3,
     "solution": false
    }
   },
   "outputs": [],
   "source": [
    "transform = transforms.Compose([\n",
    "    transforms.ToTensor(),  # Transform to tensor\n",
    "    transforms.Normalize((0.5,), (0.5,))  # Min-max scaling to [-1, 1]\n",
    "])\n",
    "\n",
    "trainset = torchvision.datasets.FashionMNIST(root=data_dir, train=True, download=True, transform=transform)\n",
    "testset = torchvision.datasets.FashionMNIST(root=data_dir, train=False, download=True, transform=transform)\n",
    "\n",
    "classes = ['T-shirt/top', 'Trouser', 'Pullover', 'Dress', 'Coat', 'Sandal',\n",
    "           'Shirt', 'Sneaker', 'Bag', 'Ankle boot']\n",
    "\n",
    "trainloader = torch.utils.data.DataLoader(trainset, batch_size=32, shuffle=True)\n",
    "testloader = torch.utils.data.DataLoader(testset, batch_size=5, shuffle=False)"
   ]
  },
  {
   "cell_type": "markdown",
   "metadata": {
    "colab_type": "text",
    "deletable": false,
    "editable": false,
    "id": "vl5V2hMC2Tiw",
    "nbgrader": {
     "cell_type": "markdown",
     "checksum": "eccfe8c399d71b5018afc8ef3b0e9132",
     "grade": false,
     "grade_id": "cell-4ab9d042e4edcd54",
     "locked": true,
     "schema_version": 3,
     "solution": false
    }
   },
   "source": [
    "# VGG-style network\n",
    "\n",
    "Let us now define a convolution neural network with an architecture inspired by the [VGG-net](https://arxiv.org/abs/1409.1556):\n",
    "\n",
    "<img src=\"vgg-style.png\" width=600 style=\"float: left;\">"
   ]
  },
  {
   "cell_type": "markdown",
   "metadata": {
    "colab_type": "text",
    "deletable": false,
    "editable": false,
    "id": "xMe4Yj6t2Tiy",
    "nbgrader": {
     "cell_type": "markdown",
     "checksum": "3eb99ec6f8f808d272bdf9e3ca45be45",
     "grade": false,
     "grade_id": "cell-91295b0ab2098018",
     "locked": true,
     "schema_version": 3,
     "solution": false
    }
   },
   "source": [
    "The architecture:\n",
    "* A block of three convolutional layers with:\n",
    "    * 3x3 kernel\n",
    "    * 16 output channels\n",
    "    * one pixel zero-pading on both sides\n",
    "    * 2d batch normalization after each convolutional layer\n",
    "    * ReLU nonlinearity after each 2d batch normalization layer\n",
    "* Max pooling layer with 2x2 kernel and stride 2.\n",
    "* A block of three convolutional layers with:\n",
    "    * 3x3 kernel\n",
    "    * 32 output channels\n",
    "    * one pixel zero-pading on both sides\n",
    "    * 2d batch normalization after each convolutional layer\n",
    "    * ReLU nonlinearity after each 2d batch normalization layer\n",
    "* Max pooling layer with 2x2 kernel and stride 2.\n",
    "* One convolutional layer with:\n",
    "    * 3x3 kernel\n",
    "    * 48 output channels\n",
    "    * *no padding*\n",
    "    * 2d batch normalization after the convolutional layer\n",
    "    * ReLU nonlinearity after the 2d batch normalization layer\n",
    "* One convolutional layer with:\n",
    "    * 1x1 kernel\n",
    "    * 32 output channels\n",
    "    * *no padding*\n",
    "    * 2d batch normalization after the convolutional layer\n",
    "    * ReLU nonlinearity after the 2d batch normalization layer\n",
    "* One convolutional layer with:\n",
    "    * 1x1 kernel\n",
    "    * 16 output channels\n",
    "    * *no padding*\n",
    "    * 2d batch normalization after the convolutional layer\n",
    "    * ReLU nonlinearity after the 2d batch normalization layer\n",
    "* Global average pooling (compute the average value of each channel across all the input locations):\n",
    "    * 5x5 kernel (the input of the layer should be 5x5)\n",
    "* A fully-connected layer with 10 outputs (no nonlinearity)\n",
    "\n",
    "Notes:\n",
    "* Batch normalization is expected to be right after a convolutional layer, before nonlinearity.\n",
    "* We recommend that you check the number of modules with trainable parameters in your network."
   ]
  },
  {
   "cell_type": "code",
   "execution_count": 8,
   "metadata": {
    "colab": {},
    "colab_type": "code",
    "deletable": false,
    "id": "Fp20X_5V2Ti1",
    "nbgrader": {
     "cell_type": "code",
     "checksum": "1b96cc788a6674bd8e1fe1e00473c4bd",
     "grade": false,
     "grade_id": "cell-958d9ce586a51bd3",
     "locked": false,
     "schema_version": 3,
     "solution": true
    }
   },
   "outputs": [],
   "source": [
    "class VGGNet(nn.Module):\n",
    "    def __init__(self, n_channels=16):\n",
    "        \"\"\"\n",
    "        Args:\n",
    "          n_channels (int): Number of channels in the first convolutional layer.\n",
    "          The number of channels in the following layers are the multipliers of n_channels. \n",
    "          Hence, parameters of the layers to follow can be defined using this variable.\n",
    "        \"\"\"\n",
    "        super(VGGNet, self).__init__()\n",
    "        # YOUR CODE HERE\n",
    "        #input shape: 28*28*1\n",
    "        self.conv1 = nn.Sequential(\n",
    "                        nn.Conv2d(1, n_channels, 3, padding=1),\n",
    "                        nn.BatchNorm2d(n_channels),\n",
    "                        nn.ReLU(),\n",
    "                        #28*28*16\n",
    "                        nn.Conv2d(n_channels, n_channels, 3, padding=1),\n",
    "                        nn.BatchNorm2d(n_channels),\n",
    "                        nn.ReLU(),\n",
    "                        #28*28*16\n",
    "                        nn.Conv2d(n_channels, n_channels, 3, padding=1),\n",
    "                        nn.BatchNorm2d(n_channels),\n",
    "                        nn.ReLU()\n",
    "        ) \n",
    "        #28*28*16\n",
    "        self.max_pool1 = nn.MaxPool2d(kernel_size=2, stride=2) \n",
    "        #14*14*16\n",
    "        self.conv2 = nn.Sequential(\n",
    "                        nn.Conv2d(n_channels, 2*n_channels, 3, padding=1),\n",
    "                        nn.BatchNorm2d(2*n_channels),\n",
    "                        nn.ReLU(),\n",
    "                        #14*14*32\n",
    "                        nn.Conv2d(2*n_channels, 2*n_channels, 3, padding=1),\n",
    "                        nn.BatchNorm2d(2*n_channels),\n",
    "                        nn.ReLU(),\n",
    "                        #14*14*32\n",
    "                        nn.Conv2d(2*n_channels, 2*n_channels, 3, padding=1),\n",
    "                        nn.BatchNorm2d(2*n_channels),\n",
    "                        nn.ReLU()\n",
    "        ) #14*14*32\n",
    "        self.max_pool2 = nn.MaxPool2d(kernel_size=2, stride=2) \n",
    "        #7*7*32\n",
    "        self.conv3 = nn.Sequential(\n",
    "                        nn.Conv2d(2*n_channels, 3*n_channels, 3),\n",
    "                        nn.BatchNorm2d(3*n_channels),\n",
    "                        nn.ReLU(),\n",
    "                        #5*5*48\n",
    "                        nn.Conv2d(3*n_channels, 2*n_channels, 1),\n",
    "                        nn.BatchNorm2d(2*n_channels),\n",
    "                        nn.ReLU(),\n",
    "                        #5*5*32\n",
    "                        nn.Conv2d(2*n_channels, n_channels, 1),\n",
    "                        nn.BatchNorm2d(n_channels),\n",
    "                        nn.ReLU()\n",
    "        ) #5*5*16\n",
    "        self.avg_pool = nn.AvgPool2d(kernel_size=5)\n",
    "        #1*1*16\n",
    "        self.fc = nn.Linear(16,10)\n",
    "        \n",
    "        \n",
    "        \n",
    "        \n",
    "        #raise NotImplementedError()\n",
    "\n",
    "    def forward(self, x, verbose=False):\n",
    "        \"\"\"\n",
    "        Args:\n",
    "          x of shape (batch_size, 1, 28, 28): Input images.\n",
    "          verbose: True if you want to print the shapes of the intermediate variables.\n",
    "        \n",
    "        Returns:\n",
    "          y of shape (batch_size, 10): Outputs of the network.\n",
    "        \"\"\"\n",
    "        # YOUR CODE HERE\n",
    "        out = self.conv1(x)\n",
    "        out = self.max_pool1(out)\n",
    "        out = self.conv2(out)\n",
    "        out = self.max_pool2(out)\n",
    "        out = self.conv3(out)\n",
    "        out = self.avg_pool(out)\n",
    "        out = out.reshape(out.shape[0],-1)\n",
    "        out = self.fc(out)\n",
    "        return out\n",
    "        #raise NotImplementedError()"
   ]
  },
  {
   "cell_type": "code",
   "execution_count": 9,
   "metadata": {
    "colab": {
     "base_uri": "https://localhost:8080/",
     "height": 694
    },
    "colab_type": "code",
    "id": "k3ThToLJ2Ti6",
    "outputId": "c61fc579-99d8-456a-fa2f-77f877c4fc6c"
   },
   "outputs": [
    {
     "name": "stdout",
     "output_type": "stream",
     "text": [
      "VGGNet(\n",
      "  (conv1): Sequential(\n",
      "    (0): Conv2d(1, 16, kernel_size=(3, 3), stride=(1, 1), padding=(1, 1))\n",
      "    (1): BatchNorm2d(16, eps=1e-05, momentum=0.1, affine=True, track_running_stats=True)\n",
      "    (2): ReLU()\n",
      "    (3): Conv2d(16, 16, kernel_size=(3, 3), stride=(1, 1), padding=(1, 1))\n",
      "    (4): BatchNorm2d(16, eps=1e-05, momentum=0.1, affine=True, track_running_stats=True)\n",
      "    (5): ReLU()\n",
      "    (6): Conv2d(16, 16, kernel_size=(3, 3), stride=(1, 1), padding=(1, 1))\n",
      "    (7): BatchNorm2d(16, eps=1e-05, momentum=0.1, affine=True, track_running_stats=True)\n",
      "    (8): ReLU()\n",
      "  )\n",
      "  (max_pool1): MaxPool2d(kernel_size=2, stride=2, padding=0, dilation=1, ceil_mode=False)\n",
      "  (conv2): Sequential(\n",
      "    (0): Conv2d(16, 32, kernel_size=(3, 3), stride=(1, 1), padding=(1, 1))\n",
      "    (1): BatchNorm2d(32, eps=1e-05, momentum=0.1, affine=True, track_running_stats=True)\n",
      "    (2): ReLU()\n",
      "    (3): Conv2d(32, 32, kernel_size=(3, 3), stride=(1, 1), padding=(1, 1))\n",
      "    (4): BatchNorm2d(32, eps=1e-05, momentum=0.1, affine=True, track_running_stats=True)\n",
      "    (5): ReLU()\n",
      "    (6): Conv2d(32, 32, kernel_size=(3, 3), stride=(1, 1), padding=(1, 1))\n",
      "    (7): BatchNorm2d(32, eps=1e-05, momentum=0.1, affine=True, track_running_stats=True)\n",
      "    (8): ReLU()\n",
      "  )\n",
      "  (max_pool2): MaxPool2d(kernel_size=2, stride=2, padding=0, dilation=1, ceil_mode=False)\n",
      "  (conv3): Sequential(\n",
      "    (0): Conv2d(32, 48, kernel_size=(3, 3), stride=(1, 1))\n",
      "    (1): BatchNorm2d(48, eps=1e-05, momentum=0.1, affine=True, track_running_stats=True)\n",
      "    (2): ReLU()\n",
      "    (3): Conv2d(48, 32, kernel_size=(1, 1), stride=(1, 1))\n",
      "    (4): BatchNorm2d(32, eps=1e-05, momentum=0.1, affine=True, track_running_stats=True)\n",
      "    (5): ReLU()\n",
      "    (6): Conv2d(32, 16, kernel_size=(1, 1), stride=(1, 1))\n",
      "    (7): BatchNorm2d(16, eps=1e-05, momentum=0.1, affine=True, track_running_stats=True)\n",
      "    (8): ReLU()\n",
      "  )\n",
      "  (avg_pool): AvgPool2d(kernel_size=5, stride=5, padding=0)\n",
      "  (fc): Linear(in_features=16, out_features=10, bias=True)\n",
      ")\n"
     ]
    }
   ],
   "source": [
    "model = VGGNet()\n",
    "print(model)"
   ]
  },
  {
   "cell_type": "code",
   "execution_count": 10,
   "metadata": {
    "colab": {
     "base_uri": "https://localhost:8080/",
     "height": 52
    },
    "colab_type": "code",
    "id": "vy3N9hg-2TjC",
    "outputId": "cfa7f16a-cb3e-4371-cd4c-19c300ccfde5"
   },
   "outputs": [
    {
     "name": "stdout",
     "output_type": "stream",
     "text": [
      "torch.Size([32, 1, 28, 28])\n",
      "torch.Size([32, 10])\n"
     ]
    }
   ],
   "source": [
    "temp = iter(trainloader).next()[0]\n",
    "print(temp.shape)\n",
    "print(model(temp).shape)"
   ]
  },
  {
   "cell_type": "code",
   "execution_count": 11,
   "metadata": {
    "colab": {
     "base_uri": "https://localhost:8080/",
     "height": 52
    },
    "colab_type": "code",
    "deletable": false,
    "editable": false,
    "id": "A4h2LgdH2TjJ",
    "nbgrader": {
     "cell_type": "code",
     "checksum": "44870ad6dd02b719505a9dfd353943ac",
     "grade": false,
     "grade_id": "cell-e9e9a9dcda247c96",
     "locked": true,
     "schema_version": 3,
     "solution": false,
     "task": false
    },
    "outputId": "bc03ff28-da43-4812-abf8-b2b5db0d458b"
   },
   "outputs": [
    {
     "name": "stdout",
     "output_type": "stream",
     "text": [
      "Shape of the input tensor: torch.Size([32, 1, 28, 28])\n",
      "Success\n"
     ]
    }
   ],
   "source": [
    "def test_VGGNet_shapes():\n",
    "    net = VGGNet()\n",
    "    net.to(device)\n",
    "\n",
    "    # Feed a batch of images from the training data to test the network\n",
    "    with torch.no_grad():\n",
    "        images, labels = iter(trainloader).next()\n",
    "        images = images.to(device)\n",
    "        print('Shape of the input tensor:', images.shape)\n",
    "\n",
    "        y = net(images, verbose=True)\n",
    "        assert y.shape == torch.Size([trainloader.batch_size, 10]), f\"Bad y.shape: {y.shape}\"\n",
    "\n",
    "    print('Success')\n",
    "\n",
    "test_VGGNet_shapes()"
   ]
  },
  {
   "cell_type": "code",
   "execution_count": 12,
   "metadata": {
    "colab": {
     "base_uri": "https://localhost:8080/",
     "height": 167
    },
    "colab_type": "code",
    "deletable": false,
    "editable": false,
    "id": "Mqxt-1kD2TjQ",
    "nbgrader": {
     "cell_type": "code",
     "checksum": "ac8bd1127d6be9c8e72d608c8177aa5f",
     "grade": true,
     "grade_id": "test_VGGNet",
     "locked": true,
     "points": 0.5,
     "schema_version": 3,
     "solution": false,
     "task": false
    },
    "outputId": "07c14cc6-99c7-42fc-966a-2f2b36a61f2c"
   },
   "outputs": [
    {
     "name": "stdout",
     "output_type": "stream",
     "text": [
      "y: tensor([[ 8.0032,  8.0032,  8.0032,  8.0032,  8.0032, -8.0032, -8.0032, -8.0032,\n",
      "         -8.0032, -8.0032]], grad_fn=<AddmmBackward>)\n",
      "expected: tensor([ 8.0032,  8.0032,  8.0032,  8.0032,  8.0032, -8.0032, -8.0032, -8.0032,\n",
      "        -8.0032, -8.0032])\n",
      "Success\n"
     ]
    }
   ],
   "source": [
    "tests.test_vgg_net(VGGNet)"
   ]
  },
  {
   "cell_type": "markdown",
   "metadata": {
    "colab_type": "text",
    "deletable": false,
    "editable": false,
    "id": "f-ANw0LF2TjW",
    "nbgrader": {
     "cell_type": "markdown",
     "checksum": "c87ccb8eb839f919438ec33b6d8f5e3b",
     "grade": false,
     "grade_id": "cell-6c5c6ddc6d0312e8",
     "locked": true,
     "schema_version": 3,
     "solution": false,
     "task": false
    }
   },
   "source": [
    "# Train the network"
   ]
  },
  {
   "cell_type": "code",
   "execution_count": 0,
   "metadata": {
    "colab": {},
    "colab_type": "code",
    "deletable": false,
    "editable": false,
    "id": "gsEqiauU2TjY",
    "nbgrader": {
     "cell_type": "code",
     "checksum": "2f83e3828402226248c665aa6b1f49a8",
     "grade": false,
     "grade_id": "cell-9e3a0480727aec61",
     "locked": true,
     "schema_version": 3,
     "solution": false,
     "task": false
    }
   },
   "outputs": [],
   "source": [
    "# This function computes the accuracy on the test dataset\n",
    "def compute_accuracy(net, testloader):\n",
    "    net.eval()\n",
    "    correct = 0\n",
    "    total = 0\n",
    "    with torch.no_grad():\n",
    "        for images, labels in testloader:\n",
    "            images, labels = images.to(device), labels.to(device)\n",
    "            outputs = net(images)\n",
    "            _, predicted = torch.max(outputs.data, 1)\n",
    "            total += labels.size(0)\n",
    "            correct += (predicted == labels).sum().item()\n",
    "    return correct / total"
   ]
  },
  {
   "cell_type": "markdown",
   "metadata": {
    "colab_type": "text",
    "deletable": false,
    "editable": false,
    "id": "6hZKxrDF2Tjd",
    "nbgrader": {
     "cell_type": "markdown",
     "checksum": "53272435c1d8e1491376543104def5b6",
     "grade": false,
     "grade_id": "cell-d168751b85ea2490",
     "locked": true,
     "schema_version": 3,
     "solution": false,
     "task": false
    }
   },
   "source": [
    "### Training loop\n",
    "\n",
    "Your task is to implement the training loop. The recommended hyperparameters:\n",
    "* Adam optimizer with learning rate 0.01.\n",
    "* Cross-entropy loss. Note that we did not use softmax nonlinearity in the final layer of our network. Therefore, we need to use a loss function with log_softmax implemented, such as [`nn.CrossEntropyLoss`](https://pytorch.org/docs/stable/nn.html#torch.nn.CrossEntropyLoss).\n",
    "* Number of epochs: 10\n",
    "\n",
    "We recommend you to use function `compute_accuracy()` defined above to track the accaracy during training. The test accuracy should be above 0.87.\n",
    "\n",
    "**Note: function `compute_accuracy()` sets the network into the evaluation mode which changes the way the batch statistics are computed in batch normalization. You need to set the network into the training mode (by calling `net.train()`) when you want to perform training.**"
   ]
  },
  {
   "cell_type": "code",
   "execution_count": 0,
   "metadata": {
    "colab": {
     "base_uri": "https://localhost:8080/",
     "height": 694
    },
    "colab_type": "code",
    "deletable": false,
    "editable": false,
    "id": "icq4Ohfw2Tjf",
    "nbgrader": {
     "cell_type": "code",
     "checksum": "db3a9615921b7a80d333475aa66ae69b",
     "grade": false,
     "grade_id": "cell-d5bf19391acb3661",
     "locked": true,
     "schema_version": 3,
     "solution": false,
     "task": false
    },
    "outputId": "515ea4d5-0a0b-41b1-d9c5-bdbede5fabc4"
   },
   "outputs": [
    {
     "data": {
      "text/plain": [
       "VGGNet(\n",
       "  (conv1): Sequential(\n",
       "    (0): Conv2d(1, 16, kernel_size=(3, 3), stride=(1, 1), padding=(1, 1))\n",
       "    (1): BatchNorm2d(16, eps=1e-05, momentum=0.1, affine=True, track_running_stats=True)\n",
       "    (2): ReLU()\n",
       "    (3): Conv2d(16, 16, kernel_size=(3, 3), stride=(1, 1), padding=(1, 1))\n",
       "    (4): BatchNorm2d(16, eps=1e-05, momentum=0.1, affine=True, track_running_stats=True)\n",
       "    (5): ReLU()\n",
       "    (6): Conv2d(16, 16, kernel_size=(3, 3), stride=(1, 1), padding=(1, 1))\n",
       "    (7): BatchNorm2d(16, eps=1e-05, momentum=0.1, affine=True, track_running_stats=True)\n",
       "    (8): ReLU()\n",
       "  )\n",
       "  (max_pool1): MaxPool2d(kernel_size=2, stride=2, padding=0, dilation=1, ceil_mode=False)\n",
       "  (conv2): Sequential(\n",
       "    (0): Conv2d(16, 32, kernel_size=(3, 3), stride=(1, 1), padding=(1, 1))\n",
       "    (1): BatchNorm2d(32, eps=1e-05, momentum=0.1, affine=True, track_running_stats=True)\n",
       "    (2): ReLU()\n",
       "    (3): Conv2d(32, 32, kernel_size=(3, 3), stride=(1, 1), padding=(1, 1))\n",
       "    (4): BatchNorm2d(32, eps=1e-05, momentum=0.1, affine=True, track_running_stats=True)\n",
       "    (5): ReLU()\n",
       "    (6): Conv2d(32, 32, kernel_size=(3, 3), stride=(1, 1), padding=(1, 1))\n",
       "    (7): BatchNorm2d(32, eps=1e-05, momentum=0.1, affine=True, track_running_stats=True)\n",
       "    (8): ReLU()\n",
       "  )\n",
       "  (max_pool2): MaxPool2d(kernel_size=2, stride=2, padding=0, dilation=1, ceil_mode=False)\n",
       "  (conv3): Sequential(\n",
       "    (0): Conv2d(32, 48, kernel_size=(3, 3), stride=(1, 1))\n",
       "    (1): BatchNorm2d(48, eps=1e-05, momentum=0.1, affine=True, track_running_stats=True)\n",
       "    (2): ReLU()\n",
       "    (3): Conv2d(48, 32, kernel_size=(1, 1), stride=(1, 1))\n",
       "    (4): BatchNorm2d(32, eps=1e-05, momentum=0.1, affine=True, track_running_stats=True)\n",
       "    (5): ReLU()\n",
       "    (6): Conv2d(32, 16, kernel_size=(1, 1), stride=(1, 1))\n",
       "    (7): BatchNorm2d(16, eps=1e-05, momentum=0.1, affine=True, track_running_stats=True)\n",
       "    (8): ReLU()\n",
       "  )\n",
       "  (avg_pool): AvgPool2d(kernel_size=5, stride=5, padding=0)\n",
       "  (fc): Linear(in_features=16, out_features=10, bias=True)\n",
       ")"
      ]
     },
     "execution_count": 21,
     "metadata": {
      "tags": []
     },
     "output_type": "execute_result"
    }
   ],
   "source": [
    "net = VGGNet()"
   ]
  },
  {
   "cell_type": "code",
   "execution_count": 0,
   "metadata": {
    "colab": {
     "base_uri": "https://localhost:8080/",
     "height": 191
    },
    "colab_type": "code",
    "deletable": false,
    "id": "4BCQO0tp2Tji",
    "nbgrader": {
     "cell_type": "code",
     "checksum": "6270848f5387bf01aba9bb5f50303a78",
     "grade": false,
     "grade_id": "training_loop",
     "locked": false,
     "schema_version": 3,
     "solution": true,
     "task": false
    },
    "outputId": "a585800d-2e88-4d3a-dc30-8ac3c16c2f28"
   },
   "outputs": [
    {
     "name": "stdout",
     "output_type": "stream",
     "text": [
      "epoch: 0, avgloss: 0.5006954073905945, train_acc: 0.88215, test_acc: 0.8745, time: 24.47498917579651\n",
      "epoch: 1, avgloss: 0.3119691014289856, train_acc: 0.8988333333333334, test_acc: 0.8911, time: 24.441157341003418\n",
      "epoch: 2, avgloss: 0.26962313055992126, train_acc: 0.90305, test_acc: 0.8897, time: 24.44248056411743\n",
      "epoch: 3, avgloss: 0.24763694405555725, train_acc: 0.9021, test_acc: 0.8887, time: 24.502317190170288\n",
      "epoch: 4, avgloss: 0.22787608206272125, train_acc: 0.9257, test_acc: 0.9112, time: 24.45971393585205\n",
      "epoch: 5, avgloss: 0.2147495299577713, train_acc: 0.9338833333333333, test_acc: 0.9202, time: 24.493106842041016\n",
      "epoch: 6, avgloss: 0.20142655074596405, train_acc: 0.9411666666666667, test_acc: 0.9196, time: 24.53120994567871\n",
      "epoch: 7, avgloss: 0.19210584461688995, train_acc: 0.94275, test_acc: 0.9198, time: 24.56436562538147\n",
      "epoch: 8, avgloss: 0.1818809062242508, train_acc: 0.944, test_acc: 0.9186, time: 24.372109174728394\n",
      "epoch: 9, avgloss: 0.1726955771446228, train_acc: 0.9412166666666667, test_acc: 0.9194, time: 24.447922468185425\n"
     ]
    }
   ],
   "source": [
    "# Implement the training loop in this cell\n",
    "import time\n",
    "net.to(device)\n",
    "\n",
    "if not skip_training:\n",
    "    # YOUR CODE HERE\n",
    "    \n",
    "    num_epoch = 6\n",
    "    optimizer = torch.optim.Adam(net.parameters(), lr=0.01)\n",
    "    criterion = nn.CrossEntropyLoss()\n",
    "    for epoch in range(num_epoch):\n",
    "        loss_list = []\n",
    "        start = time.time()\n",
    "        for i, (images, labels) in enumerate(trainloader):\n",
    "            net.train()\n",
    "            optimizer.zero_grad()\n",
    "            images, labels = images.to(device), labels.to(device)\n",
    "            out = net(images)\n",
    "            loss = criterion(out, labels)\n",
    "            loss_list.append(loss)\n",
    "            loss.backward()\n",
    "            optimizer.step()\n",
    "            \n",
    "        end = time.time()\n",
    "        if epoch%1==0:\n",
    "            train_acc = compute_accuracy(net, trainloader)\n",
    "            test_acc = compute_accuracy(net, testloader)\n",
    "            avgloss = sum(loss_list)/len(loss_list)\n",
    "            time_taken = end-start\n",
    "            print(\"epoch: {}, avgloss: {}, train_acc: {}, test_acc: {}, time: {}\".format(\n",
    "                epoch, avgloss, train_acc, test_acc, time_taken))\n",
    "            \n",
    "    \n",
    "    #raise NotImplementedError()"
   ]
  },
  {
   "cell_type": "code",
   "execution_count": 0,
   "metadata": {
    "colab": {
     "base_uri": "https://localhost:8080/",
     "height": 52
    },
    "colab_type": "code",
    "deletable": false,
    "editable": false,
    "id": "ub3NM_av2Tjq",
    "nbgrader": {
     "cell_type": "code",
     "checksum": "25f0ee95304fa8c33a23198227c373c7",
     "grade": false,
     "grade_id": "cell-28a73d35f35e73c6",
     "locked": true,
     "schema_version": 3,
     "solution": false,
     "task": false
    },
    "outputId": "9081d71d-b90a-4fdc-8b72-eb6ec73467df"
   },
   "outputs": [
    {
     "name": "stdout",
     "output_type": "stream",
     "text": [
      "Do you want to save the model (type yes to confirm)? yes\n",
      "Model saved to 4_vgg_net.pth.\n"
     ]
    }
   ],
   "source": [
    "# Save the model to disk (the pth-files will be submitted automatically together with your notebook)\n",
    "if not skip_training:\n",
    "    tools.save_model(net, '4_vgg_net.pth')\n",
    "else:\n",
    "    net = VGGNet()\n",
    "    tools.load_model(net, '4_vgg_net.pth', device)"
   ]
  },
  {
   "cell_type": "code",
   "execution_count": 0,
   "metadata": {
    "colab": {
     "base_uri": "https://localhost:8080/",
     "height": 52
    },
    "colab_type": "code",
    "deletable": false,
    "editable": false,
    "id": "Eto_IrYR2Tju",
    "nbgrader": {
     "cell_type": "code",
     "checksum": "5f269c035c5fcabef3a8b90071c87f21",
     "grade": true,
     "grade_id": "accuracy",
     "locked": true,
     "points": 0.5,
     "schema_version": 3,
     "solution": false,
     "task": false
    },
    "outputId": "1e8b99f0-8edb-46ad-f815-ffbd500cc609"
   },
   "outputs": [
    {
     "name": "stdout",
     "output_type": "stream",
     "text": [
      "Accuracy of the VGG net on the test images: 0.919\n",
      "Success\n"
     ]
    }
   ],
   "source": [
    "# Compute the accuracy on the test set\n",
    "accuracy = compute_accuracy(net, testloader)\n",
    "print('Accuracy of the VGG net on the test images: %.3f' % accuracy)\n",
    "assert accuracy > 0.87, \"Poor accuracy ({:.3f})\".format(accuracy)\n",
    "print('Success')"
   ]
  }
 ],
 "metadata": {
  "accelerator": "GPU",
  "anaconda-cloud": {},
  "colab": {
   "collapsed_sections": [],
   "name": "42_vgg.ipynb",
   "provenance": [],
   "toc_visible": true
  },
  "kernelspec": {
   "display_name": "Python 3",
   "language": "python",
   "name": "python3"
  },
  "language_info": {
   "codemirror_mode": {
    "name": "ipython",
    "version": 3
   },
   "file_extension": ".py",
   "mimetype": "text/x-python",
   "name": "python",
   "nbconvert_exporter": "python",
   "pygments_lexer": "ipython3",
   "version": "3.7.3"
  },
  "varInspector": {
   "cols": {
    "lenName": 16,
    "lenType": 16,
    "lenVar": 40
   },
   "kernels_config": {
    "python": {
     "delete_cmd_postfix": "",
     "delete_cmd_prefix": "del ",
     "library": "var_list.py",
     "varRefreshCmd": "print(var_dic_list())"
    },
    "r": {
     "delete_cmd_postfix": ") ",
     "delete_cmd_prefix": "rm(",
     "library": "var_list.r",
     "varRefreshCmd": "cat(var_dic_list()) "
    }
   },
   "types_to_exclude": [
    "module",
    "function",
    "builtin_function_or_method",
    "instance",
    "_Feature"
   ],
   "window_display": false
  }
 },
 "nbformat": 4,
 "nbformat_minor": 1
}
